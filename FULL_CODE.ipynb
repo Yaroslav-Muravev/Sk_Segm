{
  "cells": [
    {
      "cell_type": "markdown",
      "metadata": {
        "id": "view-in-github",
        "colab_type": "text"
      },
      "source": [
        "<a href=\"https://colab.research.google.com/github/Yaroslav-Muravev/Sk_Segm/blob/main/FULL_CODE.ipynb\" target=\"_parent\"><img src=\"https://colab.research.google.com/assets/colab-badge.svg\" alt=\"Open In Colab\"/></a>"
      ]
    },
    {
      "cell_type": "code",
      "execution_count": null,
      "metadata": {
        "colab": {
          "base_uri": "https://localhost:8080/"
        },
        "id": "aQDQvPRXY7Y6",
        "outputId": "3f27f600-f53c-4ed5-dd76-2ce4952228ad"
      },
      "outputs": [
        {
          "name": "stdout",
          "output_type": "stream",
          "text": [
            "--2023-07-21 07:20:36--  https://huggingface.co/xdecoder/SEEM/resolve/main/seem_focalt_v2.pt\n",
            "Resolving huggingface.co (huggingface.co)... 65.9.86.71, 65.9.86.57, 65.9.86.62, ...\n",
            "Connecting to huggingface.co (huggingface.co)|65.9.86.71|:443... connected.\n",
            "HTTP request sent, awaiting response... 302 Found\n",
            "Location: https://cdn-lfs.huggingface.co/repos/07/6f/076f8f2ff8feca33440379b3deba18d63a0d6335efdcf41f4ca5f06ecf7e0508/871a24064bc27136432f04f510fb0463ce8d2b3e0d4bd3a358b80d908f5c447f?response-content-disposition=attachment%3B+filename*%3DUTF-8%27%27seem_focalt_v2.pt%3B+filename%3D%22seem_focalt_v2.pt%22%3B&Expires=1690183236&Policy=eyJTdGF0ZW1lbnQiOlt7IkNvbmRpdGlvbiI6eyJEYXRlTGVzc1RoYW4iOnsiQVdTOkVwb2NoVGltZSI6MTY5MDE4MzIzNn19LCJSZXNvdXJjZSI6Imh0dHBzOi8vY2RuLWxmcy5odWdnaW5nZmFjZS5jby9yZXBvcy8wNy82Zi8wNzZmOGYyZmY4ZmVjYTMzNDQwMzc5YjNkZWJhMThkNjNhMGQ2MzM1ZWZkY2Y0MWY0Y2E1ZjA2ZWNmN2UwNTA4Lzg3MWEyNDA2NGJjMjcxMzY0MzJmMDRmNTEwZmIwNDYzY2U4ZDJiM2UwZDRiZDNhMzU4YjgwZDkwOGY1YzQ0N2Y%7EcmVzcG9uc2UtY29udGVudC1kaXNwb3NpdGlvbj0qIn1dfQ__&Signature=CON1kRlI1sJPqXbczZOu9tMnbGIdmb5Cn%7EK2cD6GOpzJWa2%7Et9kbs2GzY3oebGfhwdTsGlj3ADk3mI2f2hNFM8LFwD1zpvB7Oq5%7EUNfAltKHtmtc07HXxgfxHY3hHMbxLFQASmdcahYuabKVqFRs5MQP5ytkRK6ZTdkMw4rX8wT9ShDyJ8C0ORVWmcT6IzBd9dLOxXAz%7ECpuLZ0MqyjeaFRavEc3I6FGlEWrhIAG6%7E6-p%7Er30dL44lxWhhDDHKZWKKYq1Mqohvnb7QG%7Eojs0KEQuNl2VVzs8sTPGhiEAGRsSuJyuCI9%7EYFNrgCZd0ka34bE9wuqmUXO%7E1AKqyhrZYA__&Key-Pair-Id=KVTP0A1DKRTAX [following]\n",
            "--2023-07-21 07:20:36--  https://cdn-lfs.huggingface.co/repos/07/6f/076f8f2ff8feca33440379b3deba18d63a0d6335efdcf41f4ca5f06ecf7e0508/871a24064bc27136432f04f510fb0463ce8d2b3e0d4bd3a358b80d908f5c447f?response-content-disposition=attachment%3B+filename*%3DUTF-8%27%27seem_focalt_v2.pt%3B+filename%3D%22seem_focalt_v2.pt%22%3B&Expires=1690183236&Policy=eyJTdGF0ZW1lbnQiOlt7IkNvbmRpdGlvbiI6eyJEYXRlTGVzc1RoYW4iOnsiQVdTOkVwb2NoVGltZSI6MTY5MDE4MzIzNn19LCJSZXNvdXJjZSI6Imh0dHBzOi8vY2RuLWxmcy5odWdnaW5nZmFjZS5jby9yZXBvcy8wNy82Zi8wNzZmOGYyZmY4ZmVjYTMzNDQwMzc5YjNkZWJhMThkNjNhMGQ2MzM1ZWZkY2Y0MWY0Y2E1ZjA2ZWNmN2UwNTA4Lzg3MWEyNDA2NGJjMjcxMzY0MzJmMDRmNTEwZmIwNDYzY2U4ZDJiM2UwZDRiZDNhMzU4YjgwZDkwOGY1YzQ0N2Y%7EcmVzcG9uc2UtY29udGVudC1kaXNwb3NpdGlvbj0qIn1dfQ__&Signature=CON1kRlI1sJPqXbczZOu9tMnbGIdmb5Cn%7EK2cD6GOpzJWa2%7Et9kbs2GzY3oebGfhwdTsGlj3ADk3mI2f2hNFM8LFwD1zpvB7Oq5%7EUNfAltKHtmtc07HXxgfxHY3hHMbxLFQASmdcahYuabKVqFRs5MQP5ytkRK6ZTdkMw4rX8wT9ShDyJ8C0ORVWmcT6IzBd9dLOxXAz%7ECpuLZ0MqyjeaFRavEc3I6FGlEWrhIAG6%7E6-p%7Er30dL44lxWhhDDHKZWKKYq1Mqohvnb7QG%7Eojs0KEQuNl2VVzs8sTPGhiEAGRsSuJyuCI9%7EYFNrgCZd0ka34bE9wuqmUXO%7E1AKqyhrZYA__&Key-Pair-Id=KVTP0A1DKRTAX\n",
            "Resolving cdn-lfs.huggingface.co (cdn-lfs.huggingface.co)... 108.156.60.112, 108.156.60.44, 108.156.60.37, ...\n",
            "Connecting to cdn-lfs.huggingface.co (cdn-lfs.huggingface.co)|108.156.60.112|:443... connected.\n",
            "HTTP request sent, awaiting response... 200 OK\n",
            "Length: 658792514 (628M) [binary/octet-stream]\n",
            "Saving to: ‘seem_focalt_v2.pt’\n",
            "\n",
            "seem_focalt_v2.pt   100%[===================>] 628.27M  34.6MB/s    in 18s     \n",
            "\n",
            "2023-07-21 07:20:54 (35.5 MB/s) - ‘seem_focalt_v2.pt’ saved [658792514/658792514]\n",
            "\n"
          ]
        }
      ],
      "source": [
        "# Скачиваем чекпоинт для SEEM\n",
        "!wget https://huggingface.co/xdecoder/SEEM/resolve/main/seem_focalt_v2.pt"
      ]
    },
    {
      "cell_type": "code",
      "source": [
        "!pip install git+https://github.com/openai/whisper.git"
      ],
      "metadata": {
        "colab": {
          "base_uri": "https://localhost:8080/"
        },
        "id": "DnB3g8Nlyfhf",
        "outputId": "01003860-9281-4ba2-e8a6-6d990e90859a"
      },
      "execution_count": null,
      "outputs": [
        {
          "output_type": "stream",
          "name": "stdout",
          "text": [
            "Collecting git+https://github.com/openai/whisper.git\n",
            "  Cloning https://github.com/openai/whisper.git to /tmp/pip-req-build-zrlws91l\n",
            "  Running command git clone --filter=blob:none --quiet https://github.com/openai/whisper.git /tmp/pip-req-build-zrlws91l\n",
            "  Resolved https://github.com/openai/whisper.git to commit b91c907694f96a3fb9da03d4bbdc83fbcd3a40a4\n",
            "  Installing build dependencies ... \u001b[?25l\u001b[?25hdone\n",
            "  Getting requirements to build wheel ... \u001b[?25l\u001b[?25hdone\n",
            "  Preparing metadata (pyproject.toml) ... \u001b[?25l\u001b[?25hdone\n",
            "Requirement already satisfied: triton==2.0.0 in /usr/local/lib/python3.10/dist-packages (from openai-whisper==20230314) (2.0.0)\n",
            "Requirement already satisfied: numba in /usr/local/lib/python3.10/dist-packages (from openai-whisper==20230314) (0.56.4)\n",
            "Requirement already satisfied: numpy in /usr/local/lib/python3.10/dist-packages (from openai-whisper==20230314) (1.22.4)\n",
            "Requirement already satisfied: torch in /usr/local/lib/python3.10/dist-packages (from openai-whisper==20230314) (2.0.1+cu118)\n",
            "Requirement already satisfied: tqdm in /usr/local/lib/python3.10/dist-packages (from openai-whisper==20230314) (4.65.0)\n",
            "Requirement already satisfied: more-itertools in /usr/local/lib/python3.10/dist-packages (from openai-whisper==20230314) (9.1.0)\n",
            "Collecting tiktoken==0.3.3 (from openai-whisper==20230314)\n",
            "  Downloading tiktoken-0.3.3-cp310-cp310-manylinux_2_17_x86_64.manylinux2014_x86_64.whl (1.7 MB)\n",
            "\u001b[2K     \u001b[90m━━━━━━━━━━━━━━━━━━━━━━━━━━━━━━━━━━━━━━━━\u001b[0m \u001b[32m1.7/1.7 MB\u001b[0m \u001b[31m22.4 MB/s\u001b[0m eta \u001b[36m0:00:00\u001b[0m\n",
            "\u001b[?25hRequirement already satisfied: regex>=2022.1.18 in /usr/local/lib/python3.10/dist-packages (from tiktoken==0.3.3->openai-whisper==20230314) (2022.10.31)\n",
            "Requirement already satisfied: requests>=2.26.0 in /usr/local/lib/python3.10/dist-packages (from tiktoken==0.3.3->openai-whisper==20230314) (2.27.1)\n",
            "Requirement already satisfied: cmake in /usr/local/lib/python3.10/dist-packages (from triton==2.0.0->openai-whisper==20230314) (3.25.2)\n",
            "Requirement already satisfied: filelock in /usr/local/lib/python3.10/dist-packages (from triton==2.0.0->openai-whisper==20230314) (3.12.2)\n",
            "Requirement already satisfied: lit in /usr/local/lib/python3.10/dist-packages (from triton==2.0.0->openai-whisper==20230314) (16.0.6)\n",
            "Requirement already satisfied: llvmlite<0.40,>=0.39.0dev0 in /usr/local/lib/python3.10/dist-packages (from numba->openai-whisper==20230314) (0.39.1)\n",
            "Requirement already satisfied: setuptools in /usr/local/lib/python3.10/dist-packages (from numba->openai-whisper==20230314) (67.7.2)\n",
            "Requirement already satisfied: typing-extensions in /usr/local/lib/python3.10/dist-packages (from torch->openai-whisper==20230314) (4.7.1)\n",
            "Requirement already satisfied: sympy in /usr/local/lib/python3.10/dist-packages (from torch->openai-whisper==20230314) (1.11.1)\n",
            "Requirement already satisfied: networkx in /usr/local/lib/python3.10/dist-packages (from torch->openai-whisper==20230314) (3.1)\n",
            "Requirement already satisfied: jinja2 in /usr/local/lib/python3.10/dist-packages (from torch->openai-whisper==20230314) (3.1.2)\n",
            "Requirement already satisfied: urllib3<1.27,>=1.21.1 in /usr/local/lib/python3.10/dist-packages (from requests>=2.26.0->tiktoken==0.3.3->openai-whisper==20230314) (1.26.16)\n",
            "Requirement already satisfied: certifi>=2017.4.17 in /usr/local/lib/python3.10/dist-packages (from requests>=2.26.0->tiktoken==0.3.3->openai-whisper==20230314) (2023.5.7)\n",
            "Requirement already satisfied: charset-normalizer~=2.0.0 in /usr/local/lib/python3.10/dist-packages (from requests>=2.26.0->tiktoken==0.3.3->openai-whisper==20230314) (2.0.12)\n",
            "Requirement already satisfied: idna<4,>=2.5 in /usr/local/lib/python3.10/dist-packages (from requests>=2.26.0->tiktoken==0.3.3->openai-whisper==20230314) (3.4)\n",
            "Requirement already satisfied: MarkupSafe>=2.0 in /usr/local/lib/python3.10/dist-packages (from jinja2->torch->openai-whisper==20230314) (2.1.3)\n",
            "Requirement already satisfied: mpmath>=0.19 in /usr/local/lib/python3.10/dist-packages (from sympy->torch->openai-whisper==20230314) (1.3.0)\n",
            "Building wheels for collected packages: openai-whisper\n",
            "  Building wheel for openai-whisper (pyproject.toml) ... \u001b[?25l\u001b[?25hdone\n",
            "  Created wheel for openai-whisper: filename=openai_whisper-20230314-py3-none-any.whl size=798283 sha256=0ffbae9d00490063045a7151a37575a50bbd58df39f5951fae6ccf56e42c1538\n",
            "  Stored in directory: /tmp/pip-ephem-wheel-cache-eh6mfz8p/wheels/8b/6c/d0/622666868c179f156cf595c8b6f06f88bc5d80c4b31dccaa03\n",
            "Successfully built openai-whisper\n",
            "Installing collected packages: tiktoken, openai-whisper\n",
            "Successfully installed openai-whisper-20230314 tiktoken-0.3.3\n"
          ]
        }
      ]
    },
    {
      "cell_type": "code",
      "source": [
        "!unzip photos.zip"
      ],
      "metadata": {
        "colab": {
          "base_uri": "https://localhost:8080/"
        },
        "id": "CqqBzs4_z1jd",
        "outputId": "3fe28015-32c8-49b9-c85e-a733799209d6"
      },
      "execution_count": null,
      "outputs": [
        {
          "output_type": "stream",
          "name": "stdout",
          "text": [
            "Archive:  photos.zip\n",
            "   creating: photos/\n",
            "   creating: photos/00/\n",
            "   creating: photos/00/image_2/\n",
            "  inflating: photos/00/image_2/000266.png  \n",
            "  inflating: photos/00/image_2/000652.png  \n",
            "  inflating: photos/00/image_2/000749.png  \n",
            "  inflating: photos/00/image_2/000815.png  \n",
            "  inflating: photos/00/image_2/001238.png  \n",
            "  inflating: photos/00/image_2/001308.png  \n",
            "  inflating: photos/00/image_2/001485.png  \n",
            "  inflating: photos/00/image_2/001496.png  \n",
            "  inflating: photos/00/image_2/001592.png  \n",
            "  inflating: photos/00/image_2/001794.png  \n",
            "  inflating: photos/00/image_2/001926.png  \n",
            "  inflating: photos/00/image_2/001993.png  \n",
            "  inflating: photos/00/image_2/002036.png  \n",
            "  inflating: photos/00/image_2/002076.png  \n",
            "  inflating: photos/00/image_2/002123.png  \n",
            "  inflating: photos/00/image_2/002160.png  \n",
            "  inflating: photos/00/image_2/002174.png  \n",
            "  inflating: photos/00/image_2/002215.png  \n",
            "  inflating: photos/00/image_2/002321.png  \n",
            "  inflating: photos/00/image_2/002364.png  \n",
            "  inflating: photos/00/image_2/002497.png  \n",
            "  inflating: photos/00/image_2/002574.png  \n",
            "  inflating: photos/00/image_2/002643.png  \n",
            "  inflating: photos/00/image_2/002799.png  \n",
            "  inflating: photos/00/image_2/002808.png  \n",
            "  inflating: photos/00/image_2/002818.png  \n",
            "  inflating: photos/00/image_2/003012.png  \n",
            "  inflating: photos/00/image_2/003088.png  \n",
            "  inflating: photos/00/image_2/003168.png  \n",
            "  inflating: photos/00/image_2/003284.png  \n",
            "  inflating: photos/00/image_2/003397.png  \n",
            "  inflating: photos/00/image_2/003453.png  \n",
            "  inflating: photos/00/image_2/003577.png  \n",
            "  inflating: photos/00/image_2/003607.png  \n",
            "   creating: photos/00/image_3/\n",
            "  inflating: photos/00/image_3/000266.png  \n",
            "  inflating: photos/00/image_3/000652.png  \n",
            "  inflating: photos/00/image_3/000749.png  \n",
            "  inflating: photos/00/image_3/000815.png  \n",
            "  inflating: photos/00/image_3/001238.png  \n",
            "  inflating: photos/00/image_3/001308.png  \n",
            "  inflating: photos/00/image_3/001485.png  \n",
            "  inflating: photos/00/image_3/001496.png  \n",
            "  inflating: photos/00/image_3/001592.png  \n",
            "  inflating: photos/00/image_3/001794.png  \n",
            "  inflating: photos/00/image_3/001926.png  \n",
            "  inflating: photos/00/image_3/001993.png  \n",
            "  inflating: photos/00/image_3/002036.png  \n",
            "  inflating: photos/00/image_3/002076.png  \n",
            "  inflating: photos/00/image_3/002123.png  \n",
            "  inflating: photos/00/image_3/002160.png  \n",
            "  inflating: photos/00/image_3/002174.png  \n",
            "  inflating: photos/00/image_3/002215.png  \n",
            "  inflating: photos/00/image_3/002321.png  \n",
            "  inflating: photos/00/image_3/002364.png  \n",
            "  inflating: photos/00/image_3/002497.png  \n",
            "  inflating: photos/00/image_3/002574.png  \n",
            "  inflating: photos/00/image_3/002643.png  \n",
            "  inflating: photos/00/image_3/002799.png  \n",
            "  inflating: photos/00/image_3/002808.png  \n",
            "  inflating: photos/00/image_3/002818.png  \n",
            "  inflating: photos/00/image_3/003012.png  \n",
            "  inflating: photos/00/image_3/003088.png  \n",
            "  inflating: photos/00/image_3/003168.png  \n",
            "  inflating: photos/00/image_3/003284.png  \n",
            "  inflating: photos/00/image_3/003397.png  \n",
            "  inflating: photos/00/image_3/003453.png  \n",
            "  inflating: photos/00/image_3/003577.png  \n",
            "  inflating: photos/00/image_3/003607.png  \n",
            "   creating: photos/04/\n",
            "   creating: photos/04/image_2/\n",
            "  inflating: photos/04/image_2/000005.png  \n",
            "  inflating: photos/04/image_2/000029.png  \n",
            "  inflating: photos/04/image_2/000106.png  \n",
            "  inflating: photos/04/image_2/000235.png  \n",
            "  inflating: photos/04/image_2/000249.png  \n",
            "  inflating: photos/04/image_2/000264.png  \n",
            "   creating: photos/04/image_3/\n",
            "  inflating: photos/04/image_3/000005.png  \n",
            "  inflating: photos/04/image_3/000029.png  \n",
            "  inflating: photos/04/image_3/000106.png  \n",
            "  inflating: photos/04/image_3/000235.png  \n",
            "  inflating: photos/04/image_3/000249.png  \n",
            "  inflating: photos/04/image_3/000264.png  \n"
          ]
        }
      ]
    },
    {
      "cell_type": "code",
      "execution_count": null,
      "metadata": {
        "id": "TbqNufgAZT8u"
      },
      "outputs": [],
      "source": [
        "from functions import *\n",
        "import time"
      ]
    },
    {
      "cell_type": "code",
      "execution_count": null,
      "metadata": {
        "id": "IfN-QXMIZ0o8"
      },
      "outputs": [],
      "source": [
        "# Получаем пути до фотографий и модели\n",
        "path_to_project = os.path.abspath(os.curdir)\n",
        "path_to_photos = path_to_project + \"/photos/\"\n",
        "path_to_models = path_to_project + \"/models/\"\n",
        "\n",
        "all_path_to_photos, all_path_to_res = get_all_paths_to_photos(path_to_photos)"
      ]
    },
    {
      "cell_type": "code",
      "execution_count": null,
      "metadata": {
        "id": "PF4FtfOfjfj7",
        "colab": {
          "base_uri": "https://localhost:8080/",
          "height": 236
        },
        "outputId": "6bb934f5-948b-4af4-ecb6-d4985df71930"
      },
      "outputs": [
        {
          "output_type": "error",
          "ename": "NameError",
          "evalue": "ignored",
          "traceback": [
            "\u001b[0;31m---------------------------------------------------------------------------\u001b[0m",
            "\u001b[0;31mNameError\u001b[0m                                 Traceback (most recent call last)",
            "\u001b[0;32m<ipython-input-9-899b13bd9d59>\u001b[0m in \u001b[0;36m<cell line: 4>\u001b[0;34m()\u001b[0m\n\u001b[1;32m      2\u001b[0m \u001b[0;34m\u001b[0m\u001b[0m\n\u001b[1;32m      3\u001b[0m \u001b[0;31m# ГЛАВНОЕ ТЕЛО\u001b[0m\u001b[0;34m\u001b[0m\u001b[0;34m\u001b[0m\u001b[0m\n\u001b[0;32m----> 4\u001b[0;31m \u001b[0;32mfor\u001b[0m \u001b[0mnum_folder\u001b[0m\u001b[0;34m,\u001b[0m \u001b[0mcur_folder\u001b[0m \u001b[0;32min\u001b[0m \u001b[0menumerate\u001b[0m\u001b[0;34m(\u001b[0m\u001b[0mall_path_to_photos\u001b[0m\u001b[0;34m)\u001b[0m\u001b[0;34m:\u001b[0m\u001b[0;34m\u001b[0m\u001b[0;34m\u001b[0m\u001b[0m\n\u001b[0m\u001b[1;32m      5\u001b[0m     \u001b[0mpath_to_save_res\u001b[0m \u001b[0;34m=\u001b[0m \u001b[0mall_path_to_res\u001b[0m\u001b[0;34m[\u001b[0m\u001b[0mnum_folder\u001b[0m\u001b[0;34m]\u001b[0m\u001b[0;34m[\u001b[0m\u001b[0;36m0\u001b[0m\u001b[0;34m]\u001b[0m\u001b[0;34m[\u001b[0m\u001b[0;36m0\u001b[0m\u001b[0;34m]\u001b[0m\u001b[0;34m[\u001b[0m\u001b[0;34m:\u001b[0m\u001b[0;34m-\u001b[0m\u001b[0;36m18\u001b[0m\u001b[0;34m]\u001b[0m\u001b[0;34m\u001b[0m\u001b[0;34m\u001b[0m\u001b[0m\n\u001b[1;32m      6\u001b[0m     \u001b[0mos\u001b[0m\u001b[0;34m.\u001b[0m\u001b[0mmakedirs\u001b[0m\u001b[0;34m(\u001b[0m\u001b[0mall_path_to_res\u001b[0m\u001b[0;34m[\u001b[0m\u001b[0mnum_folder\u001b[0m\u001b[0;34m]\u001b[0m\u001b[0;34m[\u001b[0m\u001b[0;36m0\u001b[0m\u001b[0;34m]\u001b[0m\u001b[0;34m[\u001b[0m\u001b[0;36m0\u001b[0m\u001b[0;34m]\u001b[0m\u001b[0;34m[\u001b[0m\u001b[0;34m:\u001b[0m\u001b[0;34m-\u001b[0m\u001b[0;36m18\u001b[0m\u001b[0;34m]\u001b[0m\u001b[0;34m,\u001b[0m \u001b[0mexist_ok\u001b[0m\u001b[0;34m=\u001b[0m\u001b[0;32mTrue\u001b[0m\u001b[0;34m)\u001b[0m\u001b[0;34m\u001b[0m\u001b[0;34m\u001b[0m\u001b[0m\n",
            "\u001b[0;31mNameError\u001b[0m: name 'all_path_to_photos' is not defined"
          ]
        }
      ],
      "source": [
        "\n",
        "x = 1\n",
        "\n",
        "# ГЛАВНОЕ ТЕЛО\n",
        "for num_folder, cur_folder in enumerate(all_path_to_photos):\n",
        "    path_to_save_res = all_path_to_res[num_folder][0][0][:-18]\n",
        "    os.makedirs(all_path_to_res[num_folder][0][0][:-18], exist_ok=True)\n",
        "    for num_photo, photo in enumerate(cur_folder):\n",
        "        t = time.time()\n",
        "        for item in photos:\n",
        "          img_item = cv2.imread(item)\n",
        "          img_item = cv2.cvtColor(img_item, cv2.COLOR_BGR2RGB)\n",
        "          cur_mask = SAM(img_item, path_to_model)\n",
        "          # Это надо проверить сначала\n",
        "          save_img(img_item, cur_mask, path_to_save_res)\n",
        "\n",
        "        elapsed = time.time() - t\n",
        "        print(f\"Текущая фотография {photo[1][-10:-4]} по счету в папке {num_folder} - {num_photo + 1}\")\n",
        "        print(f\"Этот круг прошел за время: {elapsed} сек.\")\n",
        "        print(f\"Осталось времени: {elapsed * (60 - x) / 60} мин.\")\n",
        "        x += 1"
      ]
    },
    {
      "cell_type": "code",
      "execution_count": null,
      "metadata": {
        "colab": {
          "base_uri": "https://localhost:8080/",
          "height": 236
        },
        "id": "eiVnAK7ziYkQ",
        "outputId": "9e5a9490-8ce5-4564-d57e-3e340f3c6b26"
      },
      "outputs": [
        {
          "output_type": "error",
          "ename": "NameError",
          "evalue": "ignored",
          "traceback": [
            "\u001b[0;31m---------------------------------------------------------------------------\u001b[0m",
            "\u001b[0;31mNameError\u001b[0m                                 Traceback (most recent call last)",
            "\u001b[0;32m<ipython-input-1-d2cfcac90c2c>\u001b[0m in \u001b[0;36m<cell line: 1>\u001b[0;34m()\u001b[0m\n\u001b[0;32m----> 1\u001b[0;31m \u001b[0mphoto\u001b[0m \u001b[0;34m=\u001b[0m \u001b[0mpath_to_photos\u001b[0m \u001b[0;34m+\u001b[0m \u001b[0;34m\"00/image_2/000266.png\"\u001b[0m\u001b[0;34m\u001b[0m\u001b[0;34m\u001b[0m\u001b[0m\n\u001b[0m\u001b[1;32m      2\u001b[0m \u001b[0;34m\u001b[0m\u001b[0m\n\u001b[1;32m      3\u001b[0m \u001b[0mimg\u001b[0m \u001b[0;34m=\u001b[0m \u001b[0mcv2\u001b[0m\u001b[0;34m.\u001b[0m\u001b[0mimread\u001b[0m\u001b[0;34m(\u001b[0m\u001b[0mphoto\u001b[0m\u001b[0;34m)\u001b[0m\u001b[0;34m\u001b[0m\u001b[0;34m\u001b[0m\u001b[0m\n\u001b[1;32m      4\u001b[0m \u001b[0mimg\u001b[0m \u001b[0;34m=\u001b[0m \u001b[0mcv2\u001b[0m\u001b[0;34m.\u001b[0m\u001b[0mcvtColor\u001b[0m\u001b[0;34m(\u001b[0m\u001b[0mimg\u001b[0m\u001b[0;34m,\u001b[0m \u001b[0mcv2\u001b[0m\u001b[0;34m.\u001b[0m\u001b[0mCOLOR_BGR2RGB\u001b[0m\u001b[0;34m)\u001b[0m\u001b[0;34m\u001b[0m\u001b[0;34m\u001b[0m\u001b[0m\n\u001b[1;32m      5\u001b[0m \u001b[0;34m\u001b[0m\u001b[0m\n",
            "\u001b[0;31mNameError\u001b[0m: name 'path_to_photos' is not defined"
          ]
        }
      ],
      "source": [
        "photo = path_to_photos + \"00/image_2/000266.png\"\n",
        "\n",
        "img = cv2.imread(photo)\n",
        "img = cv2.cvtColor(img, cv2.COLOR_BGR2RGB)\n",
        "\n",
        "fig, axs = plt.subplots(2)\n",
        "\n",
        "x = SEEM(img, axs[0], path_to_models)\n",
        "plt.show()"
      ]
    }
  ],
  "metadata": {
    "colab": {
      "provenance": [],
      "authorship_tag": "ABX9TyPa2JpTYC/oUgj72VdVM8XQ",
      "include_colab_link": true
    },
    "kernelspec": {
      "display_name": "Python 3",
      "name": "python3"
    },
    "language_info": {
      "name": "python"
    }
  },
  "nbformat": 4,
  "nbformat_minor": 0
}